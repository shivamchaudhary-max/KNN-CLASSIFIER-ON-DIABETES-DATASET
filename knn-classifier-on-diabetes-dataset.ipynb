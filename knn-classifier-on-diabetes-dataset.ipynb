{
 "cells": [
  {
   "cell_type": "code",
   "execution_count": 1,
   "id": "02bec4c2",
   "metadata": {
    "execution": {
     "iopub.execute_input": "2022-01-21T08:16:05.325995Z",
     "iopub.status.busy": "2022-01-21T08:16:05.324243Z",
     "iopub.status.idle": "2022-01-21T08:16:06.537741Z",
     "shell.execute_reply": "2022-01-21T08:16:06.537092Z",
     "shell.execute_reply.started": "2022-01-21T08:10:31.447216Z"
    },
    "papermill": {
     "duration": 1.232376,
     "end_time": "2022-01-21T08:16:06.537949",
     "exception": false,
     "start_time": "2022-01-21T08:16:05.305573",
     "status": "completed"
    },
    "tags": []
   },
   "outputs": [],
   "source": [
    "import pandas as pd\n",
    "import numpy as np\n",
    "from sklearn.neighbors  import KNeighborsClassifier\n",
    "#from sklearn import metrics\n",
    "from sklearn import model_selection\n",
    "from sklearn.model_selection import train_test_split\n",
    "from sklearn.model_selection import StratifiedKFold\n",
    "from sklearn.model_selection import KFold\n",
    "import matplotlib.pyplot as plt"
   ]
  },
  {
   "cell_type": "code",
   "execution_count": 2,
   "id": "634851d0",
   "metadata": {
    "execution": {
     "iopub.execute_input": "2022-01-21T08:16:06.568434Z",
     "iopub.status.busy": "2022-01-21T08:16:06.567480Z",
     "iopub.status.idle": "2022-01-21T08:16:06.588106Z",
     "shell.execute_reply": "2022-01-21T08:16:06.588594Z",
     "shell.execute_reply.started": "2022-01-21T08:11:14.557097Z"
    },
    "papermill": {
     "duration": 0.037551,
     "end_time": "2022-01-21T08:16:06.588760",
     "exception": false,
     "start_time": "2022-01-21T08:16:06.551209",
     "status": "completed"
    },
    "tags": []
   },
   "outputs": [],
   "source": [
    "diabetes=pd.read_csv('../input/diabetes-data/diabetes.csv')"
   ]
  },
  {
   "cell_type": "code",
   "execution_count": 3,
   "id": "ebdccd87",
   "metadata": {
    "execution": {
     "iopub.execute_input": "2022-01-21T08:16:06.618632Z",
     "iopub.status.busy": "2022-01-21T08:16:06.617662Z",
     "iopub.status.idle": "2022-01-21T08:16:06.637407Z",
     "shell.execute_reply": "2022-01-21T08:16:06.637842Z",
     "shell.execute_reply.started": "2022-01-21T08:11:29.718981Z"
    },
    "papermill": {
     "duration": 0.036214,
     "end_time": "2022-01-21T08:16:06.638039",
     "exception": false,
     "start_time": "2022-01-21T08:16:06.601825",
     "status": "completed"
    },
    "tags": []
   },
   "outputs": [
    {
     "data": {
      "text/html": [
       "<div>\n",
       "<style scoped>\n",
       "    .dataframe tbody tr th:only-of-type {\n",
       "        vertical-align: middle;\n",
       "    }\n",
       "\n",
       "    .dataframe tbody tr th {\n",
       "        vertical-align: top;\n",
       "    }\n",
       "\n",
       "    .dataframe thead th {\n",
       "        text-align: right;\n",
       "    }\n",
       "</style>\n",
       "<table border=\"1\" class=\"dataframe\">\n",
       "  <thead>\n",
       "    <tr style=\"text-align: right;\">\n",
       "      <th></th>\n",
       "      <th>Pregnancies</th>\n",
       "      <th>Glucose</th>\n",
       "      <th>BloodPressure</th>\n",
       "      <th>SkinThickness</th>\n",
       "      <th>Insulin</th>\n",
       "      <th>BMI</th>\n",
       "      <th>DiabetesPedigreeFunction</th>\n",
       "      <th>Age</th>\n",
       "      <th>Outcome</th>\n",
       "    </tr>\n",
       "  </thead>\n",
       "  <tbody>\n",
       "    <tr>\n",
       "      <th>0</th>\n",
       "      <td>6</td>\n",
       "      <td>148</td>\n",
       "      <td>72</td>\n",
       "      <td>35</td>\n",
       "      <td>0</td>\n",
       "      <td>33.6</td>\n",
       "      <td>0.627</td>\n",
       "      <td>50</td>\n",
       "      <td>1</td>\n",
       "    </tr>\n",
       "    <tr>\n",
       "      <th>1</th>\n",
       "      <td>1</td>\n",
       "      <td>85</td>\n",
       "      <td>66</td>\n",
       "      <td>29</td>\n",
       "      <td>0</td>\n",
       "      <td>26.6</td>\n",
       "      <td>0.351</td>\n",
       "      <td>31</td>\n",
       "      <td>0</td>\n",
       "    </tr>\n",
       "    <tr>\n",
       "      <th>2</th>\n",
       "      <td>8</td>\n",
       "      <td>183</td>\n",
       "      <td>64</td>\n",
       "      <td>0</td>\n",
       "      <td>0</td>\n",
       "      <td>23.3</td>\n",
       "      <td>0.672</td>\n",
       "      <td>32</td>\n",
       "      <td>1</td>\n",
       "    </tr>\n",
       "    <tr>\n",
       "      <th>3</th>\n",
       "      <td>1</td>\n",
       "      <td>89</td>\n",
       "      <td>66</td>\n",
       "      <td>23</td>\n",
       "      <td>94</td>\n",
       "      <td>28.1</td>\n",
       "      <td>0.167</td>\n",
       "      <td>21</td>\n",
       "      <td>0</td>\n",
       "    </tr>\n",
       "    <tr>\n",
       "      <th>4</th>\n",
       "      <td>0</td>\n",
       "      <td>137</td>\n",
       "      <td>40</td>\n",
       "      <td>35</td>\n",
       "      <td>168</td>\n",
       "      <td>43.1</td>\n",
       "      <td>2.288</td>\n",
       "      <td>33</td>\n",
       "      <td>1</td>\n",
       "    </tr>\n",
       "  </tbody>\n",
       "</table>\n",
       "</div>"
      ],
      "text/plain": [
       "   Pregnancies  Glucose  BloodPressure  SkinThickness  Insulin   BMI  \\\n",
       "0            6      148             72             35        0  33.6   \n",
       "1            1       85             66             29        0  26.6   \n",
       "2            8      183             64              0        0  23.3   \n",
       "3            1       89             66             23       94  28.1   \n",
       "4            0      137             40             35      168  43.1   \n",
       "\n",
       "   DiabetesPedigreeFunction  Age  Outcome  \n",
       "0                     0.627   50        1  \n",
       "1                     0.351   31        0  \n",
       "2                     0.672   32        1  \n",
       "3                     0.167   21        0  \n",
       "4                     2.288   33        1  "
      ]
     },
     "execution_count": 3,
     "metadata": {},
     "output_type": "execute_result"
    }
   ],
   "source": [
    "diabetes.head()"
   ]
  },
  {
   "cell_type": "code",
   "execution_count": 4,
   "id": "cf927b50",
   "metadata": {
    "execution": {
     "iopub.execute_input": "2022-01-21T08:16:06.670037Z",
     "iopub.status.busy": "2022-01-21T08:16:06.668970Z",
     "iopub.status.idle": "2022-01-21T08:16:06.677874Z",
     "shell.execute_reply": "2022-01-21T08:16:06.677288Z",
     "shell.execute_reply.started": "2022-01-21T08:11:42.897087Z"
    },
    "papermill": {
     "duration": 0.025674,
     "end_time": "2022-01-21T08:16:06.678030",
     "exception": false,
     "start_time": "2022-01-21T08:16:06.652356",
     "status": "completed"
    },
    "tags": []
   },
   "outputs": [
    {
     "data": {
      "text/plain": [
       "Pregnancies                 0\n",
       "Glucose                     0\n",
       "BloodPressure               0\n",
       "SkinThickness               0\n",
       "Insulin                     0\n",
       "BMI                         0\n",
       "DiabetesPedigreeFunction    0\n",
       "Age                         0\n",
       "Outcome                     0\n",
       "dtype: int64"
      ]
     },
     "execution_count": 4,
     "metadata": {},
     "output_type": "execute_result"
    }
   ],
   "source": [
    "diabetes.isnull().sum()"
   ]
  },
  {
   "cell_type": "code",
   "execution_count": 5,
   "id": "c40a2a20",
   "metadata": {
    "execution": {
     "iopub.execute_input": "2022-01-21T08:16:06.714666Z",
     "iopub.status.busy": "2022-01-21T08:16:06.713988Z",
     "iopub.status.idle": "2022-01-21T08:16:06.715599Z",
     "shell.execute_reply": "2022-01-21T08:16:06.716091Z",
     "shell.execute_reply.started": "2022-01-21T08:11:58.661139Z"
    },
    "papermill": {
     "duration": 0.02371,
     "end_time": "2022-01-21T08:16:06.716265",
     "exception": false,
     "start_time": "2022-01-21T08:16:06.692555",
     "status": "completed"
    },
    "tags": []
   },
   "outputs": [],
   "source": [
    "x=diabetes.iloc[:,0:8]\n",
    "y=diabetes.iloc[:,8]\n"
   ]
  },
  {
   "cell_type": "code",
   "execution_count": 6,
   "id": "7f5ff176",
   "metadata": {
    "execution": {
     "iopub.execute_input": "2022-01-21T08:16:06.747313Z",
     "iopub.status.busy": "2022-01-21T08:16:06.746684Z",
     "iopub.status.idle": "2022-01-21T08:16:06.753369Z",
     "shell.execute_reply": "2022-01-21T08:16:06.753840Z",
     "shell.execute_reply.started": "2022-01-21T08:12:11.560595Z"
    },
    "papermill": {
     "duration": 0.0238,
     "end_time": "2022-01-21T08:16:06.754045",
     "exception": false,
     "start_time": "2022-01-21T08:16:06.730245",
     "status": "completed"
    },
    "tags": []
   },
   "outputs": [],
   "source": [
    "x_train,x_test,y_train,y_test = train_test_split(x,y,test_size=0.4,random_state=0)"
   ]
  },
  {
   "cell_type": "code",
   "execution_count": 7,
   "id": "6aa99722",
   "metadata": {
    "execution": {
     "iopub.execute_input": "2022-01-21T08:16:06.784617Z",
     "iopub.status.busy": "2022-01-21T08:16:06.783971Z",
     "iopub.status.idle": "2022-01-21T08:16:06.788178Z",
     "shell.execute_reply": "2022-01-21T08:16:06.788701Z",
     "shell.execute_reply.started": "2022-01-21T08:12:24.091739Z"
    },
    "papermill": {
     "duration": 0.021061,
     "end_time": "2022-01-21T08:16:06.788878",
     "exception": false,
     "start_time": "2022-01-21T08:16:06.767817",
     "status": "completed"
    },
    "tags": []
   },
   "outputs": [],
   "source": [
    "#Setup arrays to store training and test accuracies\n",
    "neighbors = np.arange(1,9)\n",
    "neighbors\n",
    "train_accuracy =np.empty(len(neighbors))\n",
    "test_accuracy = np.empty(len(neighbors))\n"
   ]
  },
  {
   "cell_type": "code",
   "execution_count": 8,
   "id": "30833c88",
   "metadata": {
    "execution": {
     "iopub.execute_input": "2022-01-21T08:16:06.823976Z",
     "iopub.status.busy": "2022-01-21T08:16:06.823265Z",
     "iopub.status.idle": "2022-01-21T08:16:07.053771Z",
     "shell.execute_reply": "2022-01-21T08:16:07.053162Z",
     "shell.execute_reply.started": "2022-01-21T08:12:37.696728Z"
    },
    "papermill": {
     "duration": 0.251303,
     "end_time": "2022-01-21T08:16:07.053940",
     "exception": false,
     "start_time": "2022-01-21T08:16:06.802637",
     "status": "completed"
    },
    "tags": []
   },
   "outputs": [],
   "source": [
    "for i,k in enumerate(neighbors):\n",
    "    #Setup a knn classifier with k neighbors\n",
    "    knn = KNeighborsClassifier(n_neighbors=k)\n",
    "    \n",
    "    #Fit the model\n",
    "    knn.fit(x_train, y_train)\n",
    "    \n",
    "    #Compute accuracy on the training set\n",
    "    train_accuracy[i] = knn.score(x_train, y_train)\n",
    "    \n",
    "    #Compute accuracy on the test set\n",
    "    test_accuracy[i] = knn.score(x_test, y_test)\n",
    "    "
   ]
  },
  {
   "cell_type": "code",
   "execution_count": 9,
   "id": "81093aa6",
   "metadata": {
    "execution": {
     "iopub.execute_input": "2022-01-21T08:16:07.090062Z",
     "iopub.status.busy": "2022-01-21T08:16:07.089363Z",
     "iopub.status.idle": "2022-01-21T08:16:07.333507Z",
     "shell.execute_reply": "2022-01-21T08:16:07.333030Z",
     "shell.execute_reply.started": "2022-01-21T08:12:56.987307Z"
    },
    "papermill": {
     "duration": 0.265893,
     "end_time": "2022-01-21T08:16:07.333636",
     "exception": false,
     "start_time": "2022-01-21T08:16:07.067743",
     "status": "completed"
    },
    "tags": []
   },
   "outputs": [
    {
     "data": {
      "image/png": "[encoded data removed]",
      "text/plain": [
       "<Figure size 432x288 with 1 Axes>"
      ]
     },
     "metadata": {
      "needs_background": "light"
     },
     "output_type": "display_data"
    }
   ],
   "source": [
    "#Generate plot\n",
    "plt.title('k-NN Varying number of neighbors')\n",
    "plt.plot(neighbors, test_accuracy, label='Testing Accuracy')\n",
    "plt.plot(neighbors, train_accuracy, label='Training accuracy')\n",
    "plt.legend()\n",
    "plt.xlabel('Number of neighbors')\n",
    "plt.ylabel('Accuracy')\n",
    "plt.show()"
   ]
  },
  {
   "cell_type": "code",
   "execution_count": 10,
   "id": "f3ef4c57",
   "metadata": {
    "execution": {
     "iopub.execute_input": "2022-01-21T08:16:07.371043Z",
     "iopub.status.busy": "2022-01-21T08:16:07.370443Z",
     "iopub.status.idle": "2022-01-21T08:16:07.375720Z",
     "shell.execute_reply": "2022-01-21T08:16:07.376162Z",
     "shell.execute_reply.started": "2022-01-21T08:13:13.209970Z"
    },
    "papermill": {
     "duration": 0.028193,
     "end_time": "2022-01-21T08:16:07.376333",
     "exception": false,
     "start_time": "2022-01-21T08:16:07.348140",
     "status": "completed"
    },
    "tags": []
   },
   "outputs": [
    {
     "data": {
      "text/plain": [
       "KNeighborsClassifier(n_neighbors=9)"
      ]
     },
     "execution_count": 10,
     "metadata": {},
     "output_type": "execute_result"
    }
   ],
   "source": [
    "#Setup a knn classifier with k neighbors\n",
    "knn = KNeighborsClassifier(n_neighbors=9)\n",
    "#Fit the model\n",
    "knn.fit(x_train,y_train)"
   ]
  },
  {
   "cell_type": "code",
   "execution_count": 11,
   "id": "407867e2",
   "metadata": {
    "execution": {
     "iopub.execute_input": "2022-01-21T08:16:07.409140Z",
     "iopub.status.busy": "2022-01-21T08:16:07.408557Z",
     "iopub.status.idle": "2022-01-21T08:16:07.426126Z",
     "shell.execute_reply": "2022-01-21T08:16:07.425564Z",
     "shell.execute_reply.started": "2022-01-21T08:13:24.784474Z"
    },
    "papermill": {
     "duration": 0.035016,
     "end_time": "2022-01-21T08:16:07.426264",
     "exception": false,
     "start_time": "2022-01-21T08:16:07.391248",
     "status": "completed"
    },
    "tags": []
   },
   "outputs": [
    {
     "data": {
      "text/plain": [
       "0.7727272727272727"
      ]
     },
     "execution_count": 11,
     "metadata": {},
     "output_type": "execute_result"
    }
   ],
   "source": [
    "#Get accuracy. Note: In case of classification algorithms score method represents accuracy.\n",
    "knn.score(x_test,y_test)"
   ]
  },
  {
   "cell_type": "code",
   "execution_count": 12,
   "id": "ff173b2e",
   "metadata": {
    "execution": {
     "iopub.execute_input": "2022-01-21T08:16:07.460615Z",
     "iopub.status.busy": "2022-01-21T08:16:07.459983Z",
     "iopub.status.idle": "2022-01-21T08:16:07.479033Z",
     "shell.execute_reply": "2022-01-21T08:16:07.479521Z",
     "shell.execute_reply.started": "2022-01-21T08:13:37.977784Z"
    },
    "papermill": {
     "duration": 0.038002,
     "end_time": "2022-01-21T08:16:07.479689",
     "exception": false,
     "start_time": "2022-01-21T08:16:07.441687",
     "status": "completed"
    },
    "tags": []
   },
   "outputs": [
    {
     "data": {
      "text/plain": [
       "array([[184,  21],\n",
       "       [ 49,  54]])"
      ]
     },
     "execution_count": 12,
     "metadata": {},
     "output_type": "execute_result"
    }
   ],
   "source": [
    "#import confusion_matrix\n",
    "from sklearn.metrics import confusion_matrix\n",
    "#let us get the predictions using the classifier we had fit above\n",
    "y_pred = knn.predict(x_test)\n",
    "confusion_matrix(y_test,y_pred)"
   ]
  },
  {
   "cell_type": "code",
   "execution_count": 13,
   "id": "04b2c359",
   "metadata": {
    "execution": {
     "iopub.execute_input": "2022-01-21T08:16:07.513874Z",
     "iopub.status.busy": "2022-01-21T08:16:07.513246Z",
     "iopub.status.idle": "2022-01-21T08:16:07.570948Z",
     "shell.execute_reply": "2022-01-21T08:16:07.571420Z",
     "shell.execute_reply.started": "2022-01-21T08:13:50.940249Z"
    },
    "papermill": {
     "duration": 0.076343,
     "end_time": "2022-01-21T08:16:07.571615",
     "exception": false,
     "start_time": "2022-01-21T08:16:07.495272",
     "status": "completed"
    },
    "tags": []
   },
   "outputs": [
    {
     "data": {
      "text/html": [
       "<div>\n",
       "<style scoped>\n",
       "    .dataframe tbody tr th:only-of-type {\n",
       "        vertical-align: middle;\n",
       "    }\n",
       "\n",
       "    .dataframe tbody tr th {\n",
       "        vertical-align: top;\n",
       "    }\n",
       "\n",
       "    .dataframe thead th {\n",
       "        text-align: right;\n",
       "    }\n",
       "</style>\n",
       "<table border=\"1\" class=\"dataframe\">\n",
       "  <thead>\n",
       "    <tr style=\"text-align: right;\">\n",
       "      <th>Predicted</th>\n",
       "      <th>0</th>\n",
       "      <th>1</th>\n",
       "      <th>All</th>\n",
       "    </tr>\n",
       "    <tr>\n",
       "      <th>True</th>\n",
       "      <th></th>\n",
       "      <th></th>\n",
       "      <th></th>\n",
       "    </tr>\n",
       "  </thead>\n",
       "  <tbody>\n",
       "    <tr>\n",
       "      <th>0</th>\n",
       "      <td>184</td>\n",
       "      <td>21</td>\n",
       "      <td>205</td>\n",
       "    </tr>\n",
       "    <tr>\n",
       "      <th>1</th>\n",
       "      <td>49</td>\n",
       "      <td>54</td>\n",
       "      <td>103</td>\n",
       "    </tr>\n",
       "    <tr>\n",
       "      <th>All</th>\n",
       "      <td>233</td>\n",
       "      <td>75</td>\n",
       "      <td>308</td>\n",
       "    </tr>\n",
       "  </tbody>\n",
       "</table>\n",
       "</div>"
      ],
      "text/plain": [
       "Predicted    0   1  All\n",
       "True                   \n",
       "0          184  21  205\n",
       "1           49  54  103\n",
       "All        233  75  308"
      ]
     },
     "execution_count": 13,
     "metadata": {},
     "output_type": "execute_result"
    }
   ],
   "source": [
    "\n",
    "#Confusion matrix can also be obtained using crosstab method of pandas.\n",
    "pd.crosstab(y_test, y_pred, rownames=['True'], colnames=['Predicted'], margins=True)"
   ]
  },
  {
   "cell_type": "code",
   "execution_count": 14,
   "id": "b273bc69",
   "metadata": {
    "execution": {
     "iopub.execute_input": "2022-01-21T08:16:07.608905Z",
     "iopub.status.busy": "2022-01-21T08:16:07.608270Z",
     "iopub.status.idle": "2022-01-21T08:16:07.609613Z",
     "shell.execute_reply": "2022-01-21T08:16:07.610191Z",
     "shell.execute_reply.started": "2022-01-21T08:14:05.554298Z"
    },
    "papermill": {
     "duration": 0.022361,
     "end_time": "2022-01-21T08:16:07.610363",
     "exception": false,
     "start_time": "2022-01-21T08:16:07.588002",
     "status": "completed"
    },
    "tags": []
   },
   "outputs": [],
   "source": [
    "from sklearn.model_selection import GridSearchCV\n",
    "from sklearn.neighbors import KNeighborsClassifier"
   ]
  },
  {
   "cell_type": "code",
   "execution_count": 15,
   "id": "6807b105",
   "metadata": {
    "execution": {
     "iopub.execute_input": "2022-01-21T08:16:07.645274Z",
     "iopub.status.busy": "2022-01-21T08:16:07.644632Z",
     "iopub.status.idle": "2022-01-21T08:16:07.648892Z",
     "shell.execute_reply": "2022-01-21T08:16:07.649401Z",
     "shell.execute_reply.started": "2022-01-21T08:14:18.317111Z"
    },
    "papermill": {
     "duration": 0.02329,
     "end_time": "2022-01-21T08:16:07.649569",
     "exception": false,
     "start_time": "2022-01-21T08:16:07.626279",
     "status": "completed"
    },
    "tags": []
   },
   "outputs": [],
   "source": [
    "x=diabetes.iloc[:,0:8]\n",
    "y=diabetes.iloc[:,8]\n"
   ]
  },
  {
   "cell_type": "code",
   "execution_count": 16,
   "id": "64603c77",
   "metadata": {
    "execution": {
     "iopub.execute_input": "2022-01-21T08:16:07.684243Z",
     "iopub.status.busy": "2022-01-21T08:16:07.683583Z",
     "iopub.status.idle": "2022-01-21T08:16:07.687424Z",
     "shell.execute_reply": "2022-01-21T08:16:07.687934Z",
     "shell.execute_reply.started": "2022-01-21T08:14:38.689868Z"
    },
    "papermill": {
     "duration": 0.022732,
     "end_time": "2022-01-21T08:16:07.688116",
     "exception": false,
     "start_time": "2022-01-21T08:16:07.665384",
     "status": "completed"
    },
    "tags": []
   },
   "outputs": [],
   "source": [
    "k_range = list(range(1,12))\n",
    "param_grid = dict(n_neighbors = k_range )"
   ]
  },
  {
   "cell_type": "code",
   "execution_count": 17,
   "id": "9a52c98a",
   "metadata": {
    "execution": {
     "iopub.execute_input": "2022-01-21T08:16:07.724776Z",
     "iopub.status.busy": "2022-01-21T08:16:07.724203Z",
     "iopub.status.idle": "2022-01-21T08:16:08.593807Z",
     "shell.execute_reply": "2022-01-21T08:16:08.594290Z",
     "shell.execute_reply.started": "2022-01-21T08:14:48.151138Z"
    },
    "papermill": {
     "duration": 0.888591,
     "end_time": "2022-01-21T08:16:08.594468",
     "exception": false,
     "start_time": "2022-01-21T08:16:07.705877",
     "status": "completed"
    },
    "tags": []
   },
   "outputs": [
    {
     "data": {
      "text/plain": [
       "GridSearchCV(cv=10, estimator=KNeighborsClassifier(),\n",
       "             param_grid={'n_neighbors': [1, 2, 3, 4, 5, 6, 7, 8, 9, 10, 11]},\n",
       "             scoring='accuracy')"
      ]
     },
     "execution_count": 17,
     "metadata": {},
     "output_type": "execute_result"
    }
   ],
   "source": [
    "#print (param_grid)\n",
    "knn = KNeighborsClassifier()\n",
    "\n",
    "grid = GridSearchCV(knn, param_grid, cv = 10, scoring = 'accuracy')\n",
    "grid.fit(x,y)"
   ]
  },
  {
   "cell_type": "code",
   "execution_count": 18,
   "id": "c929ca72",
   "metadata": {
    "execution": {
     "iopub.execute_input": "2022-01-21T08:16:08.629986Z",
     "iopub.status.busy": "2022-01-21T08:16:08.629363Z",
     "iopub.status.idle": "2022-01-21T08:16:08.634293Z",
     "shell.execute_reply": "2022-01-21T08:16:08.635154Z",
     "shell.execute_reply.started": "2022-01-21T08:15:04.052707Z"
    },
    "papermill": {
     "duration": 0.02462,
     "end_time": "2022-01-21T08:16:08.635421",
     "exception": false,
     "start_time": "2022-01-21T08:16:08.610801",
     "status": "completed"
    },
    "tags": []
   },
   "outputs": [
    {
     "name": "stdout",
     "output_type": "stream",
     "text": [
      "0.7434723171565277\n",
      "{'n_neighbors': 10}\n",
      "KNeighborsClassifier(n_neighbors=10)\n"
     ]
    }
   ],
   "source": [
    "print (grid.best_score_)\n",
    "print (grid.best_params_)\n",
    "print (grid.best_estimator_)"
   ]
  },
  {
   "cell_type": "code",
   "execution_count": 19,
   "id": "b4cc613b",
   "metadata": {
    "execution": {
     "iopub.execute_input": "2022-01-21T08:16:08.673255Z",
     "iopub.status.busy": "2022-01-21T08:16:08.672623Z",
     "iopub.status.idle": "2022-01-21T08:16:08.676196Z",
     "shell.execute_reply": "2022-01-21T08:16:08.676672Z",
     "shell.execute_reply.started": "2022-01-21T08:15:18.897309Z"
    },
    "papermill": {
     "duration": 0.023242,
     "end_time": "2022-01-21T08:16:08.676891",
     "exception": false,
     "start_time": "2022-01-21T08:16:08.653649",
     "status": "completed"
    },
    "tags": []
   },
   "outputs": [],
   "source": [
    "best_model=grid.best_estimator_"
   ]
  },
  {
   "cell_type": "code",
   "execution_count": 20,
   "id": "828ef6e6",
   "metadata": {
    "execution": {
     "iopub.execute_input": "2022-01-21T08:16:08.712834Z",
     "iopub.status.busy": "2022-01-21T08:16:08.712239Z",
     "iopub.status.idle": "2022-01-21T08:16:08.744604Z",
     "shell.execute_reply": "2022-01-21T08:16:08.744013Z",
     "shell.execute_reply.started": "2022-01-21T08:15:29.288644Z"
    },
    "papermill": {
     "duration": 0.051382,
     "end_time": "2022-01-21T08:16:08.744741",
     "exception": false,
     "start_time": "2022-01-21T08:16:08.693359",
     "status": "completed"
    },
    "tags": []
   },
   "outputs": [
    {
     "data": {
      "text/plain": [
       "array([0, 0, 1, 0, 1, 0, 0, 0, 1, 0, 0, 1, 0, 1, 1, 0, 0, 0, 0, 0, 0, 0,\n",
       "       1, 0, 1, 0, 1, 0, 1, 0, 0, 1, 0, 0, 1, 0, 0, 0, 0, 0, 0, 0, 0, 1,\n",
       "       1, 1, 1, 0, 0, 0, 0, 0, 0, 1, 1, 0, 1, 0, 0, 0, 0, 0, 0, 0, 1, 0,\n",
       "       0, 0, 0, 0, 0, 0, 0, 0, 0, 0, 0, 0, 1, 0, 0, 0, 0, 0, 1, 0, 0, 0,\n",
       "       0, 0, 0, 0, 0, 0, 0, 0, 0, 0, 0, 0, 1, 0, 0, 0, 0, 0, 0, 0, 0, 0,\n",
       "       1, 1, 0, 0, 1, 1, 1, 0, 0, 0, 1, 0, 0, 0, 0, 0, 0, 0, 0, 0, 1, 0,\n",
       "       1, 0, 0, 0, 0, 0, 0, 0, 0, 1, 0, 1, 0, 0, 0, 0, 0, 0, 0, 0, 1, 1,\n",
       "       1, 0, 0, 0, 0, 1, 0, 0, 0, 0, 0, 1, 0, 0, 0, 0, 0, 0, 0, 0, 0, 1,\n",
       "       0, 0, 0, 0, 0, 0, 0, 0, 0, 1, 1, 0, 0, 1, 0, 0, 1, 1, 0, 0, 0, 0,\n",
       "       0, 0, 0, 0, 0, 0, 0, 0, 1, 1, 0, 1, 0, 0, 1, 0, 0, 0, 0, 0, 0, 1,\n",
       "       1, 1, 0, 1, 0, 0, 0, 1, 1, 0, 0, 0, 0, 0, 0, 1, 1, 1, 1, 0, 0, 0,\n",
       "       0, 0, 0, 1, 1, 1, 0, 0, 1, 0, 0, 0, 0, 0, 0, 0, 1, 1, 1, 1, 0, 0,\n",
       "       1, 0, 1, 0, 0, 1, 0, 0, 0, 0, 0, 0, 0, 0, 0, 0, 1, 1, 1, 1, 0, 1,\n",
       "       1, 0, 0, 0, 0, 0, 0, 0, 0, 0, 0, 0, 0, 0, 1, 0, 0, 0, 0, 0, 1, 0,\n",
       "       0, 0, 0, 0, 0, 0, 1, 0, 0, 1, 0, 1, 0, 0, 0, 1, 0, 1, 0, 1, 0, 0,\n",
       "       1, 0, 1, 0, 0, 1, 0, 1, 0, 1, 0, 0, 0, 0, 0, 0, 0, 0, 0, 0, 0, 0,\n",
       "       0, 0, 0, 1, 1, 1, 0, 1, 1, 1, 1, 0, 0, 0, 0, 0, 0, 1, 1, 0, 0, 0,\n",
       "       0, 1, 0, 0, 1, 0, 0, 0, 0, 0, 0, 0, 1, 0, 0, 0, 0, 1, 0, 0, 1, 0,\n",
       "       0, 0, 0, 1, 0, 0, 0, 0, 1, 1, 1, 0, 1, 1, 0, 0, 0, 0, 0, 1, 0, 0,\n",
       "       0, 0, 1, 0, 0, 0, 0, 1, 0, 1, 0, 0, 0, 0, 0, 0, 0, 1, 0, 0, 0, 0,\n",
       "       1, 0, 0, 0, 0, 1, 0, 0, 0, 0, 0, 0, 0, 0, 0, 1, 0, 0, 1, 0, 0, 0,\n",
       "       0, 0, 0, 0, 0, 0, 0, 0, 0, 0, 0, 0, 0, 0, 0, 0, 0, 0, 1, 0, 0, 0,\n",
       "       1, 0, 1, 1, 0, 1, 0, 0, 0, 0, 0, 1, 0, 0, 1, 1, 0, 0, 0, 0, 0, 0,\n",
       "       1, 1, 0, 0, 0, 0, 0, 0, 0, 0, 1, 0, 0, 0, 0, 0, 0, 1, 0, 0, 0, 0,\n",
       "       0, 0, 0, 0, 0, 0, 0, 1, 0, 0, 0, 1, 0, 0, 0, 0, 0, 1, 1, 0, 0, 1,\n",
       "       0, 0, 0, 0, 0, 0, 0, 0, 0, 0, 1, 1, 0, 0, 0, 0, 0, 0, 1, 0, 0, 0,\n",
       "       0, 0, 0, 0, 0, 0, 1, 1, 0, 0, 0, 0, 1, 0, 0, 0, 1, 0, 0, 0, 1, 0,\n",
       "       0, 1, 0, 0, 1, 0, 0, 0, 0, 1, 1, 0, 1, 0, 0, 0, 0, 1, 1, 0, 1, 0,\n",
       "       0, 0, 0, 0, 0, 0, 1, 0, 0, 0, 0, 0, 1, 0, 0, 0, 0, 0, 0, 0, 0, 0,\n",
       "       0, 0, 0, 0, 0, 0, 0, 0, 1, 1, 1, 0, 0, 0, 0, 0, 0, 1, 0, 1, 0, 0,\n",
       "       1, 1, 1, 1, 0, 0, 0, 0, 0, 1, 1, 0, 0, 0, 0, 1, 1, 0, 0, 0, 0, 1,\n",
       "       0, 0, 0, 0, 0, 0, 0, 1, 0, 1, 0, 0, 0, 1, 1, 0, 0, 0, 0, 1, 1, 1,\n",
       "       0, 0, 0, 0, 1, 0, 0, 0, 0, 0, 0, 0, 1, 0, 0, 1, 0, 0, 0, 0, 0, 1,\n",
       "       0, 0, 1, 0, 0, 0, 1, 0, 0, 0, 0, 0, 0, 1, 1, 0, 0, 0, 1, 0, 0, 0,\n",
       "       1, 0, 0, 0, 0, 1, 1, 0, 0, 1, 0, 1, 0, 1, 0, 0, 0, 0, 1, 0])"
      ]
     },
     "execution_count": 20,
     "metadata": {},
     "output_type": "execute_result"
    }
   ],
   "source": [
    "best_model.predict(x)"
   ]
  },
  {
   "cell_type": "code",
   "execution_count": null,
   "id": "a76b40af",
   "metadata": {
    "papermill": {
     "duration": 0.017224,
     "end_time": "2022-01-21T08:16:08.779595",
     "exception": false,
     "start_time": "2022-01-21T08:16:08.762371",
     "status": "completed"
    },
    "tags": []
   },
   "outputs": [],
   "source": []
  }
 ],
 "metadata": {
  "kernelspec": {
   "display_name": "Python 3",
   "language": "python",
   "name": "python3"
  },
  "language_info": {
   "codemirror_mode": {
    "name": "ipython",
    "version": 3
   },
   "file_extension": ".py",
   "mimetype": "text/x-python",
   "name": "python",
   "nbconvert_exporter": "python",
   "pygments_lexer": "ipython3",
   "version": "3.7.12"
  },
  "papermill": {
   "default_parameters": {},
   "duration": 12.971277,
   "end_time": "2022-01-21T08:16:09.506615",
   "environment_variables": {},
   "exception": null,
   "input_path": "__notebook__.ipynb",
   "output_path": "__notebook__.ipynb",
   "parameters": {},
   "start_time": "2022-01-21T08:15:56.535338",
   "version": "2.3.3"
  }
 },
 "nbformat": 4,
 "nbformat_minor": 5
}
